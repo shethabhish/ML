{
 "cells": [
  {
   "cell_type": "code",
   "execution_count": 1,
   "metadata": {},
   "outputs": [],
   "source": [
    "import pandas as pd\n",
    "import numpy as np\n",
    "from sklearn.neighbors import KNeighborsClassifier\n",
    "from sklearn import tree\n",
    "from sklearn.naive_bayes import GaussianNB\n",
    "import statsmodels.api as sm\n",
    "from statsmodels.formula.api import ols\n",
    "from scipy.stats import ttest_ind\n",
    "import scipy.stats as stats\n",
    "from ipykernel import kernelapp as app\n",
    "import sys\n",
    "import math"
   ]
  },
  {
   "cell_type": "code",
   "execution_count": 2,
   "metadata": {},
   "outputs": [],
   "source": [
    "traindf = pd.read_csv(\"optdigits_69_N200.tra\",header=None)\n",
    "train_df = pd.read_csv(\"optdigits_69_N200.tra\",header=None)\n",
    "testdf = pd.read_csv(\"optdigits_69.tes\",header=None)\n",
    "test_df = pd.read_csv(\"optdigits_69.tes\",header=None)\n",
    "train_df = traindf.drop(traindf.columns[64],axis=1)\n",
    "test_df = testdf.drop(testdf.columns[64],axis=1)"
   ]
  },
  {
   "cell_type": "markdown",
   "metadata": {},
   "source": [
    "# Question 1"
   ]
  },
  {
   "cell_type": "code",
   "execution_count": 3,
   "metadata": {},
   "outputs": [],
   "source": [
    "class6 = train_df[:100]\n",
    "test6 = test_df[:180]\n",
    "class9 = train_df[100:]\n",
    "test9 = test_df[180:]\n",
    "testerrors = {}\n",
    "trainerrors = {}\n",
    "class6mean = []\n",
    "class9mean = []\n",
    "class6std = []\n",
    "class9std = []\n",
    "m = 64\n",
    "for i in range(m):\n",
    "    temp1 = np.std(class6[i])\n",
    "    class6std.append(temp1)\n",
    "    temp2 = np.std(class9[i])\n",
    "    class9std.append(temp2)\n",
    "    temp3 = np.mean(class6[i])\n",
    "    class6mean.append(temp3)\n",
    "    temp4 = np.mean(class9[i])\n",
    "    class9mean.append(temp4)"
   ]
  },
  {
   "cell_type": "code",
   "execution_count": 4,
   "metadata": {},
   "outputs": [
    {
     "name": "stdout",
     "output_type": "stream",
     "text": [
      "Training errors:  {2: 63, 3: 65, 4: 68, 5: 63, 9: 62, 10: 59, 11: 78, 12: 58, 13: 20, 17: 55, 18: 91, 19: 77, 20: 37, 25: 94, 26: 78, 27: 74, 28: 31, 29: 4, 30: 19, 33: 43, 34: 19, 35: 51, 36: 58, 37: 74, 38: 72, 41: 57, 42: 1, 43: 19, 44: 89, 45: 90, 46: 54, 49: 98, 50: 45, 51: 40, 52: 74, 53: 98, 54: 35, 55: 80, 57: 93, 58: 62, 59: 53, 60: 72, 61: 52, 62: 50, 63: 88}\n",
      "\n",
      "\n",
      "Test errors:  {2: 81, 3: 137, 4: 151, 5: 110, 9: 94, 10: 80, 11: 86, 12: 127, 13: 30, 17: 109, 18: 185, 19: 130, 20: 55, 25: 198, 26: 125, 27: 120, 28: 58, 29: 30, 30: 49, 33: 70, 34: 31, 35: 75, 36: 91, 37: 162, 38: 135, 41: 85, 42: 5, 43: 32, 44: 135, 45: 184, 46: 125, 49: 162, 50: 102, 51: 61, 52: 167, 53: 176, 54: 97, 55: 162, 57: 167, 58: 84, 59: 121, 60: 148, 61: 113, 62: 132, 63: 177}\n",
      "\n",
      "\n",
      "Best 10 features are:  [(42, 5), (13, 30), (29, 30), (34, 31), (43, 32), (30, 49), (20, 55), (28, 58), (51, 61), (33, 70)]\n"
     ]
    }
   ],
   "source": [
    "best = {}\n",
    "for col in range(m):\n",
    "    errors = 0\n",
    "    for i in range(200):\n",
    "        if (class6std[col] != 0):\n",
    "             g6 = -(np.log(2*np.pi)/2) - np.log(class6std[col]) - ((traindf[col][i]-class6mean[col])**2)/(2*((class6std[col])**2)) + np.log(0.5)\n",
    "        else:\n",
    "            continue\n",
    "\n",
    "        if (class9std[col] != 0):\n",
    "            g9 = -(np.log(2*np.pi)/2) - np.log(class9std[col]) - ((traindf[col][i]-class9mean[col])**2)/(2*((class9std[col])**2)) + np.log(0.5)\n",
    "        else:\n",
    "            continue\n",
    "        if g6 < g9:\n",
    "            if i < 100:\n",
    "                errors += 1\n",
    "        else:\n",
    "            if i >= 100:\n",
    "                errors += 1\n",
    "                \n",
    "    if errors != 0:\n",
    "        trainerrors[col] = errors\n",
    "print(\"Training errors: \", trainerrors)\n",
    "print(\"\\n\")\n",
    "\n",
    "for col in range(m):\n",
    "    errors = 0\n",
    "    for i in range(361):\n",
    "        if (class6std[col] != 0):\n",
    "             t6 = -(np.log(2*np.pi)/2) - np.log(class6std[col]) - ((testdf[col][i]-class6mean[col])**2)/(2*((class6std[col])**2)) + np.log(0.5)\n",
    "        else:\n",
    "            continue\n",
    "\n",
    "        if (class9std[col] != 0):\n",
    "            t9 = -(np.log(2*np.pi)/2) - np.log(class9std[col]) - ((testdf[col][i]-class9mean[col])**2)/(2*((class9std[col])**2)) + np.log(0.5)\n",
    "        else:\n",
    "            continue\n",
    "        if t6 < t9:\n",
    "            if i < 180:\n",
    "                errors += 1\n",
    "        else:\n",
    "            if i >= 180:\n",
    "                errors += 1\n",
    "                \n",
    "    if errors != 0:\n",
    "        testerrors[col] = errors\n",
    "print(\"Test errors: \", testerrors)\n",
    "print(\"\\n\")\n",
    "best = sorted(testerrors.items(), key=lambda k:k[1])\n",
    "best = best[:10]\n",
    "print(\"Best 10 features are: \", best)"
   ]
  },
  {
   "cell_type": "markdown",
   "metadata": {
    "scrolled": true
   },
   "source": [
    "# Question 2"
   ]
  },
  {
   "cell_type": "code",
   "execution_count": 5,
   "metadata": {},
   "outputs": [],
   "source": [
    "class_6,test_6,class6mean,class6std,class9mean,class9std,class_9,test_9,testerrors,trainerrors = [],[],[],[],[],[],[],[],[],[]\n",
    "for i in range(m):\n",
    "    temp1 = np.std(class6[i])\n",
    "    if temp1 == 0:\n",
    "        train_df = train_df.drop(i,axis = 1)\n",
    "        class6 = class6.drop(i,axis = 1)\n",
    "        class9 = class9.drop(i,axis = 1)\n",
    "        test_df = test_df.drop(i, axis = 1)\n",
    "        test6 = test6.drop(i,axis = 1)\n",
    "        test9 = test9.drop(i,axis = 1)\n",
    "        continue\n",
    "    class6std.append(temp1)\n",
    "    temp2 = np.mean(class6[i])\n",
    "    class6mean.append(temp2)\n",
    "    \n",
    "    temp3 = np.std(class9[i])\n",
    "    if temp3 == 0:\n",
    "        train_df = train_df.drop(i,axis = 1)\n",
    "        class6 = class6.drop(i,axis = 1)\n",
    "        class9 = class9.drop(i,axis = 1)\n",
    "        test_df = test_df.drop(i, axis = 1)\n",
    "        test6 = test6.drop(i,axis = 1)\n",
    "        test9 = test9.drop(i,axis = 1)\n",
    "        continue\n",
    "    class9std.append(temp3)\n",
    "    temp4 = np.mean(class9[i])\n",
    "    class9mean.append(temp4)\n",
    "\n",
    "train = np.array(train_df)\n",
    "test = np.array(test_df)\n",
    "class_6 = np.array(class6)\n",
    "class_9 = np.array(class9)\n",
    "test_6 = np.array(test6)\n",
    "test_9 = np.array(test9)\n",
    "class6mean.remove(0.17)"
   ]
  },
  {
   "cell_type": "code",
   "execution_count": 6,
   "metadata": {},
   "outputs": [
    {
     "name": "stdout",
     "output_type": "stream",
     "text": [
      "tp,tn,fp,fn:  100 100 0 0\n",
      "tp,tn,fp,fn:  179 177 3 2\n"
     ]
    }
   ],
   "source": [
    "six,nine,p = np.cov(class6.T), np.cov(class9.T), 1/2\n",
    "z1,z2 = np.array(six), np.array(nine)\n",
    "m1, m2 = np.linalg.inv(six), np.linalg.inv(nine)\n",
    "A1,a1 = -1/2*(m1), m1.dot(class6mean)\n",
    "L1 = 1/2*(np.transpose(class6mean).dot(m1.dot(class6mean))) - 1/2*(math.log(np.linalg.det(six))+math.log(p))\n",
    "A2,a2 = -1/2*(m2), m2.dot(class9mean)\n",
    "L2 = 1/2*(np.transpose(class9mean).dot(m2.dot(class9mean))) - 1/2*(math.log(np.linalg.det(nine))+math.log(p))\n",
    "traintp,traintn,trainfp,trainfn,testtp,testtn,testfp,testfn = 0,0,0,0,0,0,0,0\n",
    "for i,value in enumerate(train):\n",
    "    g6 = ((value.T).dot(A1)).dot(value) + (a1.T).dot(value)+L1\n",
    "    g9 = ((value.T).dot(A2)).dot(value) + (a2.T).dot(value)+L2    \n",
    "    \n",
    "    if g6 < g9:\n",
    "        ptrain = 9\n",
    "    else:\n",
    "        ptrain = 6\n",
    "    \n",
    "    if ptrain == traindf[m][i]:\n",
    "        if ptrain == 6:\n",
    "            traintp += 1\n",
    "        else:\n",
    "            traintn += 1\n",
    "    else:\n",
    "        if traindf[m][i] == 6 and ptrain == 9:\n",
    "            trainfn += 1\n",
    "        else:\n",
    "            trainfp += 1\n",
    "print(\"tp,tn,fp,fn: \",traintp, traintn , trainfp, trainfn)\n",
    "\n",
    "for i,value in enumerate(test):\n",
    "    t6 = ((value.T).dot(A1)).dot(value) + (a1.T).dot(value)+L1\n",
    "    t9 = ((value.T).dot(A2)).dot(value) + (a2.T).dot(value)+L2    \n",
    "    \n",
    "    if t6 < t9:\n",
    "        ptrain = 9\n",
    "    else:\n",
    "        ptrain = 6\n",
    "    \n",
    "    if ptrain == testdf[m][i]:\n",
    "        if ptrain == 6:\n",
    "            testtp += 1\n",
    "        else:\n",
    "            testtn += 1\n",
    "    else:\n",
    "        if testdf[m][i] == 6 and ptrain == 9:\n",
    "            testfn += 1\n",
    "        else:\n",
    "            testfp += 1\n",
    "print(\"tp,tn,fp,fn: \",testtp, testtn , testfp, testfn)\n"
   ]
  },
  {
   "cell_type": "markdown",
   "metadata": {},
   "source": [
    "# Question 3"
   ]
  },
  {
   "cell_type": "code",
   "execution_count": 7,
   "metadata": {},
   "outputs": [
    {
     "name": "stdout",
     "output_type": "stream",
     "text": [
      "tp,tn,fp,fn:  100 100 0 0\n",
      "tp,tn,fp,fn:  180 180 0 1\n"
     ]
    }
   ],
   "source": [
    "q = p*z1 + p*z2\n",
    "Q = np.array(q)\n",
    "traintp1,traintn1,trainfp1,trainfn1,testtp1,testtn1,testfp1,testfn1 = 0,0,0,0,0,0,0,0\n",
    "Qinv = np.linalg.inv(Q)\n",
    "W6 = Qinv.dot(class6mean)\n",
    "w6 = -1/2*(np.transpose(class6mean)).dot(Qinv).dot(class6mean) + math.log(p)\n",
    "W9 = Qinv.dot(class9mean)\n",
    "w9 = -1/2*(np.transpose(class9mean)).dot(Qinv).dot(class9mean) + math.log(p)\n",
    "\n",
    "for i, value in enumerate(train):\n",
    "    g6 = (W6.T).dot(value) + w6\n",
    "    g9 = (W9.T).dot(value) + w9\n",
    "    \n",
    "    if g6<g9:\n",
    "        pt1 = 9\n",
    "    else:\n",
    "        pt1 = 6\n",
    "    if pt1 == traindf[m][i]:\n",
    "        if pt1 == 6:\n",
    "            traintp1 += 1\n",
    "        else:\n",
    "            traintn1 += 1\n",
    "    else:\n",
    "        if traindf[m][i] == 6 and pt1 == 9:\n",
    "            trainfn1 += 1\n",
    "        else:\n",
    "            trainfp1 += 1\n",
    "print(\"tp,tn,fp,fn: \",traintp1, traintn1, trainfp1, trainfn1)\n",
    "\n",
    "for i, value in enumerate(test):\n",
    "    g6 = (W6.T).dot(value) + w6\n",
    "    g9 = (W9.T).dot(value) + w9\n",
    "    \n",
    "    if g6<g9:\n",
    "        pct1 = 9\n",
    "    else:\n",
    "        pct1 = 6\n",
    "    if pct1 == testdf[m][i]:\n",
    "        if pct1 == 6:\n",
    "            testtp1 += 1\n",
    "        else:\n",
    "            testtn1 += 1\n",
    "    else:\n",
    "        if testdf[m][i] == 6 and pct1 == 9:\n",
    "            testfn1 += 1\n",
    "        else:\n",
    "            testfp1 += 1\n",
    "print(\"tp,tn,fp,fn: \",testtp1, testtn1, testfp1, testfn1)"
   ]
  },
  {
   "cell_type": "markdown",
   "metadata": {},
   "source": [
    "# Question 4"
   ]
  },
  {
   "cell_type": "code",
   "execution_count": 8,
   "metadata": {},
   "outputs": [
    {
     "name": "stdout",
     "output_type": "stream",
     "text": [
      "tp,tn,fp,fn:  179 173 7 2\n"
     ]
    }
   ],
   "source": [
    "columns,feat,t2,class6t,test2 = [],[],[],[],[]\n",
    "for i,j in best:\n",
    "    feat.append(i)\n",
    "class6_test,class9_test = class6[feat],class9[feat]\n",
    "t2 = test_df[feat]\n",
    "test = np.array(t2)\n",
    "m6,m9 = np.mean(class6_test),np.mean(class9_test) \n",
    "s6,s9 = np.cov(class6_test.T), np.cov(class9_test.T)\n",
    "z1,z2 = np.array(s6),np.array(s9)\n",
    "Z1,Z2 = np.linalg.inv(s6),np.linalg.inv(s9)\n",
    "A1,a1 = -1/2*(Z1), Z1.dot(m6)\n",
    "L1 = 1/2*(np.transpose(m6).dot(Z1.dot(m6))) - 1/2*(math.log(np.linalg.det(s6))+math.log(p))\n",
    "A2,a2 = -1/2*(Z2), Z2.dot(m9)\n",
    "L2 = 1/2*(np.transpose(m9).dot(Z2.dot(m9))) - 1/2*(math.log(np.linalg.det(s9))+math.log(p))\n",
    "tp,tn,fp,fn = 0,0,0,0\n",
    "for i, value in enumerate(test):\n",
    "    g6 = ((value.T).dot(A1)).dot(value)+(a1.T).dot(value) + L1\n",
    "    g9 = ((value.T).dot(A2)).dot(value)+(a2.T).dot(value) + L2\n",
    "    if g6 < g9:\n",
    "        pt2 = 9\n",
    "    else:\n",
    "        pt2 = 6\n",
    "    if pt2 == testdf[m][i]:\n",
    "        if pt2 == 6:\n",
    "            tp += 1\n",
    "        else:\n",
    "            tn +=1\n",
    "    else:\n",
    "        if testdf[m][i] == 6 and pt2 == 9:\n",
    "            fn += 1\n",
    "        else:\n",
    "            fp += 1\n",
    "print(\"tp,tn,fp,fn: \",tp,tn,fp,fn)"
   ]
  }
 ],
 "metadata": {
  "kernelspec": {
   "display_name": "Python 3",
   "language": "python",
   "name": "python3"
  },
  "language_info": {
   "codemirror_mode": {
    "name": "ipython",
    "version": 3
   },
   "file_extension": ".py",
   "mimetype": "text/x-python",
   "name": "python",
   "nbconvert_exporter": "python",
   "pygments_lexer": "ipython3",
   "version": "3.7.6"
  }
 },
 "nbformat": 4,
 "nbformat_minor": 4
}
