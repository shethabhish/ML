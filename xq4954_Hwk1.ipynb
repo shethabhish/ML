{
 "cells": [
  {
   "cell_type": "markdown",
   "metadata": {},
   "source": [
    "#  Importing Required functions"
   ]
  },
  {
   "cell_type": "code",
   "execution_count": 1,
   "metadata": {},
   "outputs": [],
   "source": [
    "import pandas as pd\n",
    "import numpy as np\n",
    "from scipy import stats\n",
    "import statsmodels.api as sm\n",
    "from statsmodels.formula.api import ols\n",
    "Folds = 10\n",
    "Alpha = 0.01"
   ]
  },
  {
   "cell_type": "markdown",
   "metadata": {},
   "source": [
    "## Reading the Data File"
   ]
  },
  {
   "cell_type": "code",
   "execution_count": 2,
   "metadata": {},
   "outputs": [
    {
     "data": {
      "text/html": [
       "<div>\n",
       "<style scoped>\n",
       "    .dataframe tbody tr th:only-of-type {\n",
       "        vertical-align: middle;\n",
       "    }\n",
       "\n",
       "    .dataframe tbody tr th {\n",
       "        vertical-align: top;\n",
       "    }\n",
       "\n",
       "    .dataframe thead th {\n",
       "        text-align: right;\n",
       "    }\n",
       "</style>\n",
       "<table border=\"1\" class=\"dataframe\">\n",
       "  <thead>\n",
       "    <tr style=\"text-align: right;\">\n",
       "      <th></th>\n",
       "      <th>NB</th>\n",
       "      <th>DT</th>\n",
       "      <th>NN</th>\n",
       "    </tr>\n",
       "  </thead>\n",
       "  <tbody>\n",
       "    <tr>\n",
       "      <th>0</th>\n",
       "      <td>0.6809</td>\n",
       "      <td>0.7524</td>\n",
       "      <td>0.7164</td>\n",
       "    </tr>\n",
       "    <tr>\n",
       "      <th>1</th>\n",
       "      <td>0.7017</td>\n",
       "      <td>0.8694</td>\n",
       "      <td>0.8883</td>\n",
       "    </tr>\n",
       "    <tr>\n",
       "      <th>2</th>\n",
       "      <td>0.7012</td>\n",
       "      <td>0.6803</td>\n",
       "      <td>0.8410</td>\n",
       "    </tr>\n",
       "    <tr>\n",
       "      <th>3</th>\n",
       "      <td>0.6913</td>\n",
       "      <td>0.9102</td>\n",
       "      <td>0.6825</td>\n",
       "    </tr>\n",
       "    <tr>\n",
       "      <th>4</th>\n",
       "      <td>0.6333</td>\n",
       "      <td>0.7758</td>\n",
       "      <td>0.7599</td>\n",
       "    </tr>\n",
       "    <tr>\n",
       "      <th>5</th>\n",
       "      <td>0.6415</td>\n",
       "      <td>0.8154</td>\n",
       "      <td>0.8479</td>\n",
       "    </tr>\n",
       "    <tr>\n",
       "      <th>6</th>\n",
       "      <td>0.7216</td>\n",
       "      <td>0.6224</td>\n",
       "      <td>0.7012</td>\n",
       "    </tr>\n",
       "    <tr>\n",
       "      <th>7</th>\n",
       "      <td>0.7214</td>\n",
       "      <td>0.7585</td>\n",
       "      <td>0.4959</td>\n",
       "    </tr>\n",
       "    <tr>\n",
       "      <th>8</th>\n",
       "      <td>0.6578</td>\n",
       "      <td>0.9380</td>\n",
       "      <td>0.9279</td>\n",
       "    </tr>\n",
       "    <tr>\n",
       "      <th>9</th>\n",
       "      <td>0.7865</td>\n",
       "      <td>0.7524</td>\n",
       "      <td>0.7455</td>\n",
       "    </tr>\n",
       "  </tbody>\n",
       "</table>\n",
       "</div>"
      ],
      "text/plain": [
       "       NB      DT      NN\n",
       "0  0.6809  0.7524  0.7164\n",
       "1  0.7017  0.8694  0.8883\n",
       "2  0.7012  0.6803  0.8410\n",
       "3  0.6913  0.9102  0.6825\n",
       "4  0.6333  0.7758  0.7599\n",
       "5  0.6415  0.8154  0.8479\n",
       "6  0.7216  0.6224  0.7012\n",
       "7  0.7214  0.7585  0.4959\n",
       "8  0.6578  0.9380  0.9279\n",
       "9  0.7865  0.7524  0.7455"
      ]
     },
     "execution_count": 2,
     "metadata": {},
     "output_type": "execute_result"
    }
   ],
   "source": [
    "data = pd.read_csv(\"C:/Users/STSC/Desktop/HW1.csv\")\n",
    "data"
   ]
  },
  {
   "cell_type": "markdown",
   "metadata": {},
   "source": [
    "## NB - Naive Bayes, DT - Decision Tree, NN- Nearest Neighbor"
   ]
  },
  {
   "cell_type": "code",
   "execution_count": 3,
   "metadata": {},
   "outputs": [
    {
     "data": {
      "text/html": [
       "<div>\n",
       "<style scoped>\n",
       "    .dataframe tbody tr th:only-of-type {\n",
       "        vertical-align: middle;\n",
       "    }\n",
       "\n",
       "    .dataframe tbody tr th {\n",
       "        vertical-align: top;\n",
       "    }\n",
       "\n",
       "    .dataframe thead th {\n",
       "        text-align: right;\n",
       "    }\n",
       "</style>\n",
       "<table border=\"1\" class=\"dataframe\">\n",
       "  <thead>\n",
       "    <tr style=\"text-align: right;\">\n",
       "      <th></th>\n",
       "      <th>NB</th>\n",
       "      <th>DT</th>\n",
       "      <th>NN</th>\n",
       "    </tr>\n",
       "  </thead>\n",
       "  <tbody>\n",
       "    <tr>\n",
       "      <th>0</th>\n",
       "      <td>0.3191</td>\n",
       "      <td>0.2476</td>\n",
       "      <td>0.2836</td>\n",
       "    </tr>\n",
       "    <tr>\n",
       "      <th>1</th>\n",
       "      <td>0.2983</td>\n",
       "      <td>0.1306</td>\n",
       "      <td>0.1117</td>\n",
       "    </tr>\n",
       "    <tr>\n",
       "      <th>2</th>\n",
       "      <td>0.2988</td>\n",
       "      <td>0.3197</td>\n",
       "      <td>0.1590</td>\n",
       "    </tr>\n",
       "    <tr>\n",
       "      <th>3</th>\n",
       "      <td>0.3087</td>\n",
       "      <td>0.0898</td>\n",
       "      <td>0.3175</td>\n",
       "    </tr>\n",
       "    <tr>\n",
       "      <th>4</th>\n",
       "      <td>0.3667</td>\n",
       "      <td>0.2242</td>\n",
       "      <td>0.2401</td>\n",
       "    </tr>\n",
       "    <tr>\n",
       "      <th>5</th>\n",
       "      <td>0.3585</td>\n",
       "      <td>0.1846</td>\n",
       "      <td>0.1521</td>\n",
       "    </tr>\n",
       "    <tr>\n",
       "      <th>6</th>\n",
       "      <td>0.2784</td>\n",
       "      <td>0.3776</td>\n",
       "      <td>0.2988</td>\n",
       "    </tr>\n",
       "    <tr>\n",
       "      <th>7</th>\n",
       "      <td>0.2786</td>\n",
       "      <td>0.2415</td>\n",
       "      <td>0.5041</td>\n",
       "    </tr>\n",
       "    <tr>\n",
       "      <th>8</th>\n",
       "      <td>0.3422</td>\n",
       "      <td>0.0620</td>\n",
       "      <td>0.0721</td>\n",
       "    </tr>\n",
       "    <tr>\n",
       "      <th>9</th>\n",
       "      <td>0.2135</td>\n",
       "      <td>0.2476</td>\n",
       "      <td>0.2545</td>\n",
       "    </tr>\n",
       "  </tbody>\n",
       "</table>\n",
       "</div>"
      ],
      "text/plain": [
       "       NB      DT      NN\n",
       "0  0.3191  0.2476  0.2836\n",
       "1  0.2983  0.1306  0.1117\n",
       "2  0.2988  0.3197  0.1590\n",
       "3  0.3087  0.0898  0.3175\n",
       "4  0.3667  0.2242  0.2401\n",
       "5  0.3585  0.1846  0.1521\n",
       "6  0.2784  0.3776  0.2988\n",
       "7  0.2786  0.2415  0.5041\n",
       "8  0.3422  0.0620  0.0721\n",
       "9  0.2135  0.2476  0.2545"
      ]
     },
     "execution_count": 3,
     "metadata": {},
     "output_type": "execute_result"
    }
   ],
   "source": [
    "for i,val in enumerate(data['NB']):\n",
    "    data.at[i,'NB'] = 1 - val\n",
    "for i,val in enumerate(data['DT']):\n",
    "    data.at[i,'DT'] = 1 - val\n",
    "for i,val in enumerate(data['NN']):\n",
    "    data.at[i,'NN'] = 1 - val\n",
    "data"
   ]
  },
  {
   "cell_type": "markdown",
   "metadata": {},
   "source": [
    "## Q1: Use ANOVA to determine if the three classifiers have equal error rates."
   ]
  },
  {
   "cell_type": "code",
   "execution_count": 4,
   "metadata": {},
   "outputs": [
    {
     "data": {
      "text/html": [
       "<div>\n",
       "<style scoped>\n",
       "    .dataframe tbody tr th:only-of-type {\n",
       "        vertical-align: middle;\n",
       "    }\n",
       "\n",
       "    .dataframe tbody tr th {\n",
       "        vertical-align: top;\n",
       "    }\n",
       "\n",
       "    .dataframe thead th {\n",
       "        text-align: right;\n",
       "    }\n",
       "</style>\n",
       "<table border=\"1\" class=\"dataframe\">\n",
       "  <thead>\n",
       "    <tr style=\"text-align: right;\">\n",
       "      <th></th>\n",
       "      <th>sum_sq</th>\n",
       "      <th>df</th>\n",
       "      <th>F</th>\n",
       "      <th>PR(&gt;F)</th>\n",
       "    </tr>\n",
       "  </thead>\n",
       "  <tbody>\n",
       "    <tr>\n",
       "      <th>BetweenGroups</th>\n",
       "      <td>0.046635</td>\n",
       "      <td>2.0</td>\n",
       "      <td>2.561818</td>\n",
       "      <td>0.095781</td>\n",
       "    </tr>\n",
       "    <tr>\n",
       "      <th>Residual</th>\n",
       "      <td>0.245751</td>\n",
       "      <td>27.0</td>\n",
       "      <td>NaN</td>\n",
       "      <td>NaN</td>\n",
       "    </tr>\n",
       "  </tbody>\n",
       "</table>\n",
       "</div>"
      ],
      "text/plain": [
       "                 sum_sq    df         F    PR(>F)\n",
       "BetweenGroups  0.046635   2.0  2.561818  0.095781\n",
       "Residual       0.245751  27.0       NaN       NaN"
      ]
     },
     "execution_count": 4,
     "metadata": {},
     "output_type": "execute_result"
    }
   ],
   "source": [
    "d_melt = pd.melt(data.reset_index(), id_vars=['index'], value_vars=['NB','DT','NN'])\n",
    "d_melt.columns = ['index','BetweenGroups','value']\n",
    "model = ols('value ~ BetweenGroups', data=d_melt).fit()\n",
    "anova_table = sm.stats.anova_lm(model, typ=2)\n",
    "anova_table"
   ]
  },
  {
   "cell_type": "markdown",
   "metadata": {},
   "source": [
    "##### From the table the P value is .096, which is greater than 0.05. So we accept H0(Null hypothesis) and say the three classifiers have equal errors"
   ]
  },
  {
   "cell_type": "markdown",
   "metadata": {},
   "source": [
    "## Q2a) Use Cross-Validated Paired t-test to determine if NB and DecTree have equal errors"
   ]
  },
  {
   "cell_type": "code",
   "execution_count": 5,
   "metadata": {},
   "outputs": [
    {
     "data": {
      "text/html": [
       "<div>\n",
       "<style scoped>\n",
       "    .dataframe tbody tr th:only-of-type {\n",
       "        vertical-align: middle;\n",
       "    }\n",
       "\n",
       "    .dataframe tbody tr th {\n",
       "        vertical-align: top;\n",
       "    }\n",
       "\n",
       "    .dataframe thead th {\n",
       "        text-align: right;\n",
       "    }\n",
       "</style>\n",
       "<table border=\"1\" class=\"dataframe\">\n",
       "  <thead>\n",
       "    <tr style=\"text-align: right;\">\n",
       "      <th></th>\n",
       "      <th>NB</th>\n",
       "      <th>DT</th>\n",
       "    </tr>\n",
       "  </thead>\n",
       "  <tbody>\n",
       "    <tr>\n",
       "      <th>count</th>\n",
       "      <td>10.000000</td>\n",
       "      <td>10.000000</td>\n",
       "    </tr>\n",
       "    <tr>\n",
       "      <th>mean</th>\n",
       "      <td>0.306280</td>\n",
       "      <td>0.212520</td>\n",
       "    </tr>\n",
       "    <tr>\n",
       "      <th>std</th>\n",
       "      <td>0.044857</td>\n",
       "      <td>0.098536</td>\n",
       "    </tr>\n",
       "    <tr>\n",
       "      <th>min</th>\n",
       "      <td>0.213500</td>\n",
       "      <td>0.062000</td>\n",
       "    </tr>\n",
       "    <tr>\n",
       "      <th>25%</th>\n",
       "      <td>0.283525</td>\n",
       "      <td>0.144100</td>\n",
       "    </tr>\n",
       "    <tr>\n",
       "      <th>50%</th>\n",
       "      <td>0.303750</td>\n",
       "      <td>0.232850</td>\n",
       "    </tr>\n",
       "    <tr>\n",
       "      <th>75%</th>\n",
       "      <td>0.336425</td>\n",
       "      <td>0.247600</td>\n",
       "    </tr>\n",
       "    <tr>\n",
       "      <th>max</th>\n",
       "      <td>0.366700</td>\n",
       "      <td>0.377600</td>\n",
       "    </tr>\n",
       "  </tbody>\n",
       "</table>\n",
       "</div>"
      ],
      "text/plain": [
       "              NB         DT\n",
       "count  10.000000  10.000000\n",
       "mean    0.306280   0.212520\n",
       "std     0.044857   0.098536\n",
       "min     0.213500   0.062000\n",
       "25%     0.283525   0.144100\n",
       "50%     0.303750   0.232850\n",
       "75%     0.336425   0.247600\n",
       "max     0.366700   0.377600"
      ]
     },
     "execution_count": 5,
     "metadata": {},
     "output_type": "execute_result"
    }
   ],
   "source": [
    "data[['NB','DT']].describe()"
   ]
  },
  {
   "cell_type": "code",
   "execution_count": 6,
   "metadata": {},
   "outputs": [
    {
     "name": "stdout",
     "output_type": "stream",
     "text": [
      "Ttest_relResult(statistic=2.41980164672186, pvalue=0.03862319304217036)\n",
      "Pvalue:  0.03862319304217036\n",
      "H0: Null Hypothesis Rejected\n"
     ]
    }
   ],
   "source": [
    "val = stats.ttest_rel(data['NB'], data['DT'])\n",
    "print(val)\n",
    "print('Pvalue: ',val.pvalue)\n",
    "if val.pvalue < 0.5:\n",
    "    print(\"H0: Null Hypothesis Rejected\")\n",
    "else:\n",
    "    print(\"H0: Null Hypothesis Accepted\")"
   ]
  },
  {
   "cell_type": "markdown",
   "metadata": {},
   "source": [
    "#####  From the result the P value is .039, which is lesser than 0.05. So we reject H0(Null hypothesis) and say there is significant difference between error rates of NB and DT"
   ]
  },
  {
   "cell_type": "markdown",
   "metadata": {},
   "source": [
    "## Q2b) Use Cross-Validated Paired t-test to determine if DecTree and Knearest Neighbor have equal errors"
   ]
  },
  {
   "cell_type": "code",
   "execution_count": 7,
   "metadata": {},
   "outputs": [
    {
     "data": {
      "text/html": [
       "<div>\n",
       "<style scoped>\n",
       "    .dataframe tbody tr th:only-of-type {\n",
       "        vertical-align: middle;\n",
       "    }\n",
       "\n",
       "    .dataframe tbody tr th {\n",
       "        vertical-align: top;\n",
       "    }\n",
       "\n",
       "    .dataframe thead th {\n",
       "        text-align: right;\n",
       "    }\n",
       "</style>\n",
       "<table border=\"1\" class=\"dataframe\">\n",
       "  <thead>\n",
       "    <tr style=\"text-align: right;\">\n",
       "      <th></th>\n",
       "      <th>DT</th>\n",
       "      <th>NN</th>\n",
       "    </tr>\n",
       "  </thead>\n",
       "  <tbody>\n",
       "    <tr>\n",
       "      <th>count</th>\n",
       "      <td>10.000000</td>\n",
       "      <td>10.000000</td>\n",
       "    </tr>\n",
       "    <tr>\n",
       "      <th>mean</th>\n",
       "      <td>0.212520</td>\n",
       "      <td>0.239350</td>\n",
       "    </tr>\n",
       "    <tr>\n",
       "      <th>std</th>\n",
       "      <td>0.098536</td>\n",
       "      <td>0.124837</td>\n",
       "    </tr>\n",
       "    <tr>\n",
       "      <th>min</th>\n",
       "      <td>0.062000</td>\n",
       "      <td>0.072100</td>\n",
       "    </tr>\n",
       "    <tr>\n",
       "      <th>25%</th>\n",
       "      <td>0.144100</td>\n",
       "      <td>0.153825</td>\n",
       "    </tr>\n",
       "    <tr>\n",
       "      <th>50%</th>\n",
       "      <td>0.232850</td>\n",
       "      <td>0.247300</td>\n",
       "    </tr>\n",
       "    <tr>\n",
       "      <th>75%</th>\n",
       "      <td>0.247600</td>\n",
       "      <td>0.295000</td>\n",
       "    </tr>\n",
       "    <tr>\n",
       "      <th>max</th>\n",
       "      <td>0.377600</td>\n",
       "      <td>0.504100</td>\n",
       "    </tr>\n",
       "  </tbody>\n",
       "</table>\n",
       "</div>"
      ],
      "text/plain": [
       "              DT         NN\n",
       "count  10.000000  10.000000\n",
       "mean    0.212520   0.239350\n",
       "std     0.098536   0.124837\n",
       "min     0.062000   0.072100\n",
       "25%     0.144100   0.153825\n",
       "50%     0.232850   0.247300\n",
       "75%     0.247600   0.295000\n",
       "max     0.377600   0.504100"
      ]
     },
     "execution_count": 7,
     "metadata": {},
     "output_type": "execute_result"
    }
   ],
   "source": [
    "data[['DT','NN']].describe()"
   ]
  },
  {
   "cell_type": "code",
   "execution_count": 8,
   "metadata": {},
   "outputs": [
    {
     "name": "stdout",
     "output_type": "stream",
     "text": [
      "Ttest_relResult(statistic=-0.6599461576035529, pvalue=0.525815214488946)\n",
      "Pvalue:  0.525815214488946\n",
      "H0: Null Hypothesis Accepted\n"
     ]
    }
   ],
   "source": [
    "val = stats.ttest_rel(data['DT'], data['NN'])\n",
    "print(val)\n",
    "print('Pvalue: ',val.pvalue)\n",
    "if val.pvalue < 0.5:\n",
    "    print(\"H0: Null Hypothesis Rejected\")\n",
    "else:\n",
    "    print(\"H0: Null Hypothesis Accepted\")"
   ]
  },
  {
   "cell_type": "markdown",
   "metadata": {},
   "source": [
    "##### From the result the P value is .052, which is greater than 0.05. So we accept H0(Null hypothesis) and say there is no significant difference between error rates of DT and NN"
   ]
  },
  {
   "cell_type": "markdown",
   "metadata": {},
   "source": [
    "## Storing NB,DT,NN values in arrays to perform easy operations later"
   ]
  },
  {
   "cell_type": "code",
   "execution_count": 9,
   "metadata": {},
   "outputs": [],
   "source": [
    "nb = []\n",
    "dt = []\n",
    "nn = []\n",
    "for i in data.NB:\n",
    "    nb.append(i)\n",
    "for i in data.DT:\n",
    "    dt.append(i)\n",
    "for i in data.NN:\n",
    "    nn.append(i)"
   ]
  },
  {
   "cell_type": "markdown",
   "metadata": {},
   "source": [
    "## Q3)  For each classifier (Naive Bayes, Decision Tree, Knearest Neighbor), determine if the error of the classifier less than p0 (=0.1, 0.2, 0.3) with level of significance (alpha) (=0.01 or 0.025) "
   ]
  },
  {
   "cell_type": "markdown",
   "metadata": {},
   "source": [
    "### For Naive Bayes with p0 = 0.1,0.2,0.3 and alpha = 0.025"
   ]
  },
  {
   "cell_type": "code",
   "execution_count": 10,
   "metadata": {},
   "outputs": [
    {
     "name": "stdout",
     "output_type": "stream",
     "text": [
      "For p0:  0.1\n",
      "T-value: 15.328778125485574\n",
      "T-critical: -2.8214379233005498\n",
      "Error of classifier is less than P0\n",
      "For p0:  0.2\n",
      "T-value: 7.897724157342479\n",
      "T-critical: -2.8214379233005498\n",
      "Error of classifier is less than P0\n",
      "For p0:  0.3\n",
      "T-value: 0.46667018919938275\n",
      "T-critical: -2.8214379233005498\n",
      "Error of classifier is less than P0\n"
     ]
    }
   ],
   "source": [
    "mean = np.mean(nb)\n",
    "stdev = np.std(nb)\n",
    "p0 = 0.1\n",
    "while p0 < 0.4:\n",
    "    t1 = np.sqrt(Folds)*(mean-p0)/stdev\n",
    "    f = Folds - 1\n",
    "    t = stats.t.ppf(Alpha,f)\n",
    "    print(\"For p0: \",round(p0,1))\n",
    "    print(\"T-value:\",t1)\n",
    "    print(\"T-critical:\",t)\n",
    "    if t1 > t:\n",
    "        print('Error of classifier is less than P0')\n",
    "        p0 += 0.1\n",
    "    else:\n",
    "        print('Error of classifier is greater than P0')\n",
    "        p0 += 0.1"
   ]
  },
  {
   "cell_type": "markdown",
   "metadata": {},
   "source": [
    "### For Decision Tree with p0 = 0.1,0.2,0.3 and alpha = 0.025"
   ]
  },
  {
   "cell_type": "code",
   "execution_count": 11,
   "metadata": {},
   "outputs": [
    {
     "name": "stdout",
     "output_type": "stream",
     "text": [
      "For p0:  0.1\n",
      "T-value: 3.806409099448852\n",
      "T-critical: -2.8214379233005498\n",
      "Error of classifier is less than P0\n",
      "For p0:  0.2\n",
      "T-value: 0.42353574409082595\n",
      "T-critical: -2.8214379233005498\n",
      "Error of classifier is less than P0\n",
      "For p0:  0.3\n",
      "T-value: -2.9593376112672014\n",
      "T-critical: -2.8214379233005498\n",
      "Error of classifier is greater than P0\n"
     ]
    }
   ],
   "source": [
    "mean = np.mean(dt)\n",
    "stdev = np.std(dt)\n",
    "p0 = 0.1\n",
    "while p0 < 0.4:\n",
    "    t1 = np.sqrt(Folds)*(mean-p0)/stdev\n",
    "    f = Folds - 1\n",
    "    t = stats.t.ppf(Alpha,f)\n",
    "    print(\"For p0: \",round(p0,1))\n",
    "    print(\"T-value:\",t1)\n",
    "    print(\"T-critical:\",t)\n",
    "    if t1 > t:\n",
    "        print('Error of classifier is less than P0')\n",
    "        p0 += 0.1\n",
    "    else:\n",
    "        print('Error of classifier is greater than P0')\n",
    "        p0 += 0.1"
   ]
  },
  {
   "cell_type": "markdown",
   "metadata": {},
   "source": [
    "### For Nearest Neighborwith p0 = 0.1,0.2,0.3 and alpha = 0.01"
   ]
  },
  {
   "cell_type": "code",
   "execution_count": 12,
   "metadata": {
    "scrolled": true
   },
   "outputs": [
    {
     "name": "stdout",
     "output_type": "stream",
     "text": [
      "For p0:  0.1\n",
      "T-value: 3.7208557596586833\n",
      "T-critical: -2.8214379233005498\n",
      "Error of classifier is less than P0\n",
      "For p0:  0.2\n",
      "T-value: 1.050704514837239\n",
      "T-critical: -2.8214379233005498\n",
      "Error of classifier is less than P0\n",
      "For p0:  0.3\n",
      "T-value: -1.6194467299842061\n",
      "T-critical: -2.8214379233005498\n",
      "Error of classifier is less than P0\n"
     ]
    }
   ],
   "source": [
    "mean = np.mean(nn)\n",
    "stdev = np.std(nn)\n",
    "p0 = 0.1\n",
    "while p0 < 0.4:\n",
    "    t1 = np.sqrt(Folds)*(mean-p0)/stdev\n",
    "    f = Folds - 1\n",
    "    t = stats.t.ppf(Alpha,f)\n",
    "    print(\"For p0: \",round(p0,1))\n",
    "    print(\"T-value:\",t1)\n",
    "    print(\"T-critical:\",t)\n",
    "    if t1 > t:\n",
    "        print('Error of classifier is less than P0')\n",
    "        p0 += 0.1\n",
    "    else:\n",
    "        print('Error of classifier is greater than P0')\n",
    "        p0 += 0.1"
   ]
  },
  {
   "cell_type": "code",
   "execution_count": null,
   "metadata": {},
   "outputs": [],
   "source": []
  }
 ],
 "metadata": {
  "kernelspec": {
   "display_name": "Python 3",
   "language": "python",
   "name": "python3"
  },
  "language_info": {
   "codemirror_mode": {
    "name": "ipython",
    "version": 3
   },
   "file_extension": ".py",
   "mimetype": "text/x-python",
   "name": "python",
   "nbconvert_exporter": "python",
   "pygments_lexer": "ipython3",
   "version": "3.7.6"
  }
 },
 "nbformat": 4,
 "nbformat_minor": 4
}
