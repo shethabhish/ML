{
 "cells": [
  {
   "cell_type": "code",
   "execution_count": 1,
   "metadata": {},
   "outputs": [],
   "source": [
    "import pandas as pd\n",
    "import math\n",
    "from sklearn.tree import DecisionTreeClassifier\n",
    "from sklearn.model_selection import train_test_split\n",
    "from sklearn import metrics\n",
    "from sklearn.neighbors import KNeighborsClassifier\n",
    "from sklearn.tree import DecisionTreeRegressor\n",
    "from sklearn.metrics import mean_squared_error"
   ]
  },
  {
   "cell_type": "code",
   "execution_count": 2,
   "metadata": {},
   "outputs": [],
   "source": [
    "train_df = pd.read_csv(\"optdigits.tra\",header=None)\n",
    "test_df = pd.read_csv(\"optdigits.tes\",header=None)\n",
    "X100_C69 = train_df[train_df[64] == 6].sample(100)\n",
    "X100_C69 = X100_C69.append(train_df[train_df[64] == 9].sample(100))\n",
    "X100_CAll = train_df.sample(100)\n",
    "X500_69 = train_df[train_df[64] == 6].sample(n=500,random_state=123,replace=True)\n",
    "X500_69 = X500_69.append(train_df[train_df[64] == 9].sample(n=500,random_state=123,replace=True))\n",
    "X500_CAll = train_df.sample(500)"
   ]
  },
  {
   "cell_type": "markdown",
   "metadata": {},
   "source": [
    "# Question 1"
   ]
  },
  {
   "cell_type": "code",
   "execution_count": 3,
   "metadata": {},
   "outputs": [
    {
     "name": "stdout",
     "output_type": "stream",
     "text": [
      "Error: 0.013850415512465353\n",
      "Error: 0.011080332409972304\n",
      "Error: 0.013850415512465353\n",
      "Error: 0.011080332409972304\n",
      "Error: 0.6483027267668335\n",
      "Error: 0.49526989426822476\n",
      "Error: 0.39565943238731216\n",
      "Error: 0.4062326099053979\n",
      "Error: 0.005540166204986097\n",
      "Error: 0.005540166204986097\n",
      "Error: 0.005540166204986097\n",
      "Error: 0.005540166204986097\n",
      "Error: 0.6533110740122426\n",
      "Error: 0.42570951585976624\n",
      "Error: 0.2888146911519198\n",
      "Error: 0.28046744574290483\n"
     ]
    }
   ],
   "source": [
    "xtrain = X100_C69[X100_C69.columns[0:64]]\n",
    "ytrain = X100_C69[X100_C69.columns[64]]\n",
    "xtest = test_df[test_df[64] == 6]\n",
    "xtest = xtest.append(test_df[test_df[64] == 9])\n",
    "ytest = xtest.copy()\n",
    "xtest = xtest[xtest.columns[0:64]]\n",
    "ytest = ytest[ytest.columns[64]]\n",
    "max_depth = [2,3,5,10]\n",
    "for i in max_depth:\n",
    "    clf = DecisionTreeClassifier(criterion=\"entropy\", max_depth=i)\n",
    "    clf = clf.fit(xtrain,ytrain)\n",
    "    y_pred = clf.predict(xtest)\n",
    "    print(\"Error:\",1-metrics.accuracy_score(ytest, y_pred))\n",
    "xtrain = X100_CAll[X100_CAll.columns[0:64]]\n",
    "ytrain = X100_CAll[X100_CAll.columns[64]]\n",
    "xtest = test_df\n",
    "ytest = xtest.copy()\n",
    "xtest = xtest[xtest.columns[0:64]]\n",
    "ytest = ytest[ytest.columns[64]]\n",
    "for i in max_depth:\n",
    "    clf = DecisionTreeClassifier(criterion=\"entropy\", max_depth=i)\n",
    "    clf = clf.fit(xtrain,ytrain)\n",
    "    y_pred = clf.predict(xtest)\n",
    "    print(\"Error:\",1-metrics.accuracy_score(ytest, y_pred))\n",
    "xtrain = X500_69[X500_69.columns[0:64]]\n",
    "ytrain = X500_69[X500_69.columns[64]]\n",
    "xtest = test_df[test_df[64] == 6]\n",
    "xtest = xtest.append(test_df[test_df[64] == 9])\n",
    "ytest = xtest.copy()\n",
    "xtest = xtest[xtest.columns[0:64]]\n",
    "ytest = ytest[ytest.columns[64]]\n",
    "for i in max_depth:\n",
    "    clf = DecisionTreeClassifier(criterion=\"entropy\", max_depth=i)\n",
    "    clf = clf.fit(xtrain,ytrain)\n",
    "    y_pred = clf.predict(xtest)\n",
    "    print(\"Error:\",1-metrics.accuracy_score(ytest, y_pred))\n",
    "xtrain = X500_CAll[X500_CAll.columns[0:64]]\n",
    "ytrain = X500_CAll[X500_CAll.columns[64]]\n",
    "xtest = test_df\n",
    "ytest = xtest.copy()\n",
    "xtest = xtest[xtest.columns[0:64]]\n",
    "ytest = ytest[ytest.columns[64]]\n",
    "for i in max_depth:\n",
    "    clf = DecisionTreeClassifier(criterion=\"entropy\", max_depth=i)\n",
    "    clf = clf.fit(xtrain,ytrain)\n",
    "    y_pred = clf.predict(xtest)\n",
    "    print(\"Error:\",1-metrics.accuracy_score(ytest, y_pred))"
   ]
  },
  {
   "cell_type": "markdown",
   "metadata": {},
   "source": [
    "# Question 2"
   ]
  },
  {
   "cell_type": "code",
   "execution_count": 4,
   "metadata": {},
   "outputs": [
    {
     "name": "stdout",
     "output_type": "stream",
     "text": [
      "Error: 0.0\n",
      "Error: 0.0\n",
      "Error: 0.0\n",
      "Error: 0.0\n",
      "Error: 0.12520868113522543\n",
      "Error: 0.14134668892598778\n",
      "Error: 0.1552587646076795\n",
      "Error: 0.19254312743461321\n",
      "Error: 0.0\n",
      "Error: 0.0\n",
      "Error: 0.0\n",
      "Error: 0.0\n",
      "Error: 0.046744574290484175\n",
      "Error: 0.047857540345019434\n",
      "Error: 0.05509181969949917\n",
      "Error: 0.06343906510851416\n"
     ]
    }
   ],
   "source": [
    "xtrain = X100_C69[X100_C69.columns[0:64]]\n",
    "ytrain = X100_C69[X100_C69.columns[64]]\n",
    "xtest = test_df[test_df[64] == 6]\n",
    "xtest = xtest.append(test_df[test_df[64] == 9])\n",
    "ytest = xtest.copy()\n",
    "xtest = xtest[xtest.columns[0:64]]\n",
    "ytest = ytest[ytest.columns[64]]\n",
    "k = [1,3,5,9]\n",
    "for i in k:\n",
    "    knn = KNeighborsClassifier(n_neighbors=i)\n",
    "    knn.fit(xtrain, ytrain)\n",
    "    y_pred = knn.predict(xtest)\n",
    "    print(\"Error:\",1-metrics.accuracy_score(ytest, y_pred))\n",
    "xtrain = X100_CAll[X100_CAll.columns[0:64]]\n",
    "ytrain = X100_CAll[X100_CAll.columns[64]]\n",
    "xtest = test_df\n",
    "ytest = xtest.copy()\n",
    "xtest = xtest[xtest.columns[0:64]]\n",
    "ytest = ytest[ytest.columns[64]]\n",
    "for i in k:\n",
    "    knn = KNeighborsClassifier(n_neighbors=i)\n",
    "    knn.fit(xtrain, ytrain)\n",
    "    y_pred = knn.predict(xtest)\n",
    "    print(\"Error:\",1-metrics.accuracy_score(ytest, y_pred))\n",
    "xtrain = X500_69[X500_69.columns[0:64]]\n",
    "ytrain = X500_69[X500_69.columns[64]]\n",
    "xtest = test_df[test_df[64] == 6]\n",
    "xtest = xtest.append(test_df[test_df[64] == 9])\n",
    "ytest = xtest.copy()\n",
    "xtest = xtest[xtest.columns[0:64]]\n",
    "ytest = ytest[ytest.columns[64]]\n",
    "for i in k:\n",
    "    knn = KNeighborsClassifier(n_neighbors=i)\n",
    "    knn.fit(xtrain, ytrain)\n",
    "    y_pred = knn.predict(xtest)\n",
    "    print(\"Error:\",1-metrics.accuracy_score(ytest, y_pred))\n",
    "xtrain = X500_CAll[X500_CAll.columns[0:64]]\n",
    "ytrain = X500_CAll[X500_CAll.columns[64]]\n",
    "xtest = test_df\n",
    "ytest = xtest.copy()\n",
    "xtest = xtest[xtest.columns[0:64]]\n",
    "ytest = ytest[ytest.columns[64]]\n",
    "for i in k:\n",
    "    knn = KNeighborsClassifier(n_neighbors=i)\n",
    "    knn.fit(xtrain, ytrain)\n",
    "    y_pred = knn.predict(xtest)\n",
    "    print(\"Error:\",1-metrics.accuracy_score(ytest, y_pred))"
   ]
  },
  {
   "cell_type": "markdown",
   "metadata": {},
   "source": [
    "# Question 3"
   ]
  },
  {
   "cell_type": "code",
   "execution_count": 5,
   "metadata": {},
   "outputs": [
    {
     "name": "stdout",
     "output_type": "stream",
     "text": [
      "Error for 16 features: \n",
      "Feature 48 has error: 0.0\n",
      "Feature 49 has error: 0.9431345410019395\n",
      "Feature 50 has error: 2.9329524279727726\n",
      "Feature 51 has error: 2.812757047799321\n",
      "Feature 52 has error: 4.7477822679740065\n",
      "Feature 53 has error: 4.6418704555348\n",
      "Feature 54 has error: 3.8536772995778676\n",
      "Feature 55 has error: 1.283124639222163\n",
      "Feature 56 has error: 0.0\n",
      "Feature 57 has error: 0.0\n",
      "Feature 58 has error: 1.182281715687348\n",
      "Feature 59 has error: 2.6004674462924005\n",
      "Feature 60 has error: 2.357543435384332\n",
      "Feature 61 has error: 3.7053045445625385\n",
      "Feature 62 has error: 5.075670491592861\n",
      "Feature 63 has error: 0.7616498521220686\n"
     ]
    }
   ],
   "source": [
    "def sq(act,pre):\n",
    "    return math.sqrt(mean_squared_error(act,pre))\n",
    "test69 = test_df[test_df[64] == 6]\n",
    "test69.append(test_df[test_df[64] == 9])\n",
    "xtrain = X500_69[X500_69.columns[0:47]]\n",
    "xtest = test69[test69.columns[0:47]]\n",
    "regressor = DecisionTreeRegressor(random_state = 0)\n",
    "print(\"Error for 16 features: \")\n",
    "for i in range(48,64):\n",
    "    ytrain = X500_69[i]\n",
    "    ytest = test69[i]\n",
    "    regressor.fit(xtrain, ytrain)\n",
    "    pred = regressor.predict(xtest)\n",
    "    print(f\"Feature {i} has error: {sq(ytest,pred)}\")"
   ]
  }
 ],
 "metadata": {
  "kernelspec": {
   "display_name": "Python 3",
   "language": "python",
   "name": "python3"
  },
  "language_info": {
   "codemirror_mode": {
    "name": "ipython",
    "version": 3
   },
   "file_extension": ".py",
   "mimetype": "text/x-python",
   "name": "python",
   "nbconvert_exporter": "python",
   "pygments_lexer": "ipython3",
   "version": "3.7.6"
  }
 },
 "nbformat": 4,
 "nbformat_minor": 4
}
